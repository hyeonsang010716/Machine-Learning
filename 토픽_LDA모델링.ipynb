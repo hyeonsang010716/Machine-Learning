{
  "nbformat": 4,
  "nbformat_minor": 0,
  "metadata": {
    "colab": {
      "provenance": [],
      "authorship_tag": "ABX9TyPDVc0yezAuh6itDVJcDnGF",
      "include_colab_link": true
    },
    "kernelspec": {
      "name": "python3",
      "display_name": "Python 3"
    },
    "language_info": {
      "name": "python"
    }
  },
  "cells": [
    {
      "cell_type": "markdown",
      "metadata": {
        "id": "view-in-github",
        "colab_type": "text"
      },
      "source": [
        "<a href=\"https://colab.research.google.com/github/hyeonsang010716/Machine_Learning/blob/main/%ED%86%A0%ED%94%BD_LDA%EB%AA%A8%EB%8D%B8%EB%A7%81.ipynb\" target=\"_parent\"><img src=\"https://colab.research.google.com/assets/colab-badge.svg\" alt=\"Open In Colab\"/></a>"
      ]
    },
    {
      "cell_type": "code",
      "execution_count": 3,
      "metadata": {
        "colab": {
          "base_uri": "https://localhost:8080/"
        },
        "id": "5SpF6HQa0UdX",
        "outputId": "393fe05a-eac4-492b-ada1-63f3022644da"
      },
      "outputs": [
        {
          "output_type": "stream",
          "name": "stdout",
          "text": [
            "(7862, 1000)\n"
          ]
        }
      ],
      "source": [
        "from sklearn.datasets import fetch_20newsgroups\n",
        "from sklearn.feature_extraction.text import CountVectorizer\n",
        "from sklearn.decomposition import LatentDirichletAllocation\n",
        "\n",
        "cats = ['rec.motorcycles', 'rec.sport.baseball', 'comp.graphics', 'comp.windows.x',\n",
        "        'talk.politics.mideast', 'soc.religion.christian', 'sci.electronics', 'sci.med'  ]\n",
        "news_Df = fetch_20newsgroups(subset='all', remove = ('headers' , 'footers' , 'quotes') ,\n",
        "                             categories=cats , random_state = 0)\n",
        "count_vect = CountVectorizer(max_df = 0.95 , max_features = 1000 , min_df = 2 ,stop_words='english' , ngram_range=(1,2))\n",
        "feat_vect = count_vect.fit_transform(news_Df.data)\n",
        "print(feat_vect.shape)"
      ]
    },
    {
      "cell_type": "code",
      "source": [
        "lda = LatentDirichletAllocation(n_components=8, max_iter=5, random_state=0)\n",
        "lda.fit(feat_vect)"
      ],
      "metadata": {
        "colab": {
          "base_uri": "https://localhost:8080/",
          "height": 75
        },
        "id": "srBiLqnK4Kr3",
        "outputId": "83cba529-e930-4d32-d410-2087be122855"
      },
      "execution_count": 4,
      "outputs": [
        {
          "output_type": "execute_result",
          "data": {
            "text/plain": [
              "LatentDirichletAllocation(max_iter=5, n_components=8, random_state=0)"
            ],
            "text/html": [
              "<style>#sk-container-id-1 {color: black;background-color: white;}#sk-container-id-1 pre{padding: 0;}#sk-container-id-1 div.sk-toggleable {background-color: white;}#sk-container-id-1 label.sk-toggleable__label {cursor: pointer;display: block;width: 100%;margin-bottom: 0;padding: 0.3em;box-sizing: border-box;text-align: center;}#sk-container-id-1 label.sk-toggleable__label-arrow:before {content: \"▸\";float: left;margin-right: 0.25em;color: #696969;}#sk-container-id-1 label.sk-toggleable__label-arrow:hover:before {color: black;}#sk-container-id-1 div.sk-estimator:hover label.sk-toggleable__label-arrow:before {color: black;}#sk-container-id-1 div.sk-toggleable__content {max-height: 0;max-width: 0;overflow: hidden;text-align: left;background-color: #f0f8ff;}#sk-container-id-1 div.sk-toggleable__content pre {margin: 0.2em;color: black;border-radius: 0.25em;background-color: #f0f8ff;}#sk-container-id-1 input.sk-toggleable__control:checked~div.sk-toggleable__content {max-height: 200px;max-width: 100%;overflow: auto;}#sk-container-id-1 input.sk-toggleable__control:checked~label.sk-toggleable__label-arrow:before {content: \"▾\";}#sk-container-id-1 div.sk-estimator input.sk-toggleable__control:checked~label.sk-toggleable__label {background-color: #d4ebff;}#sk-container-id-1 div.sk-label input.sk-toggleable__control:checked~label.sk-toggleable__label {background-color: #d4ebff;}#sk-container-id-1 input.sk-hidden--visually {border: 0;clip: rect(1px 1px 1px 1px);clip: rect(1px, 1px, 1px, 1px);height: 1px;margin: -1px;overflow: hidden;padding: 0;position: absolute;width: 1px;}#sk-container-id-1 div.sk-estimator {font-family: monospace;background-color: #f0f8ff;border: 1px dotted black;border-radius: 0.25em;box-sizing: border-box;margin-bottom: 0.5em;}#sk-container-id-1 div.sk-estimator:hover {background-color: #d4ebff;}#sk-container-id-1 div.sk-parallel-item::after {content: \"\";width: 100%;border-bottom: 1px solid gray;flex-grow: 1;}#sk-container-id-1 div.sk-label:hover label.sk-toggleable__label {background-color: #d4ebff;}#sk-container-id-1 div.sk-serial::before {content: \"\";position: absolute;border-left: 1px solid gray;box-sizing: border-box;top: 0;bottom: 0;left: 50%;z-index: 0;}#sk-container-id-1 div.sk-serial {display: flex;flex-direction: column;align-items: center;background-color: white;padding-right: 0.2em;padding-left: 0.2em;position: relative;}#sk-container-id-1 div.sk-item {position: relative;z-index: 1;}#sk-container-id-1 div.sk-parallel {display: flex;align-items: stretch;justify-content: center;background-color: white;position: relative;}#sk-container-id-1 div.sk-item::before, #sk-container-id-1 div.sk-parallel-item::before {content: \"\";position: absolute;border-left: 1px solid gray;box-sizing: border-box;top: 0;bottom: 0;left: 50%;z-index: -1;}#sk-container-id-1 div.sk-parallel-item {display: flex;flex-direction: column;z-index: 1;position: relative;background-color: white;}#sk-container-id-1 div.sk-parallel-item:first-child::after {align-self: flex-end;width: 50%;}#sk-container-id-1 div.sk-parallel-item:last-child::after {align-self: flex-start;width: 50%;}#sk-container-id-1 div.sk-parallel-item:only-child::after {width: 0;}#sk-container-id-1 div.sk-dashed-wrapped {border: 1px dashed gray;margin: 0 0.4em 0.5em 0.4em;box-sizing: border-box;padding-bottom: 0.4em;background-color: white;}#sk-container-id-1 div.sk-label label {font-family: monospace;font-weight: bold;display: inline-block;line-height: 1.2em;}#sk-container-id-1 div.sk-label-container {text-align: center;}#sk-container-id-1 div.sk-container {/* jupyter's `normalize.less` sets `[hidden] { display: none; }` but bootstrap.min.css set `[hidden] { display: none !important; }` so we also need the `!important` here to be able to override the default hidden behavior on the sphinx rendered scikit-learn.org. See: https://github.com/scikit-learn/scikit-learn/issues/21755 */display: inline-block !important;position: relative;}#sk-container-id-1 div.sk-text-repr-fallback {display: none;}</style><div id=\"sk-container-id-1\" class=\"sk-top-container\"><div class=\"sk-text-repr-fallback\"><pre>LatentDirichletAllocation(max_iter=5, n_components=8, random_state=0)</pre><b>In a Jupyter environment, please rerun this cell to show the HTML representation or trust the notebook. <br />On GitHub, the HTML representation is unable to render, please try loading this page with nbviewer.org.</b></div><div class=\"sk-container\" hidden><div class=\"sk-item\"><div class=\"sk-estimator sk-toggleable\"><input class=\"sk-toggleable__control sk-hidden--visually\" id=\"sk-estimator-id-1\" type=\"checkbox\" checked><label for=\"sk-estimator-id-1\" class=\"sk-toggleable__label sk-toggleable__label-arrow\">LatentDirichletAllocation</label><div class=\"sk-toggleable__content\"><pre>LatentDirichletAllocation(max_iter=5, n_components=8, random_state=0)</pre></div></div></div></div></div>"
            ]
          },
          "metadata": {},
          "execution_count": 4
        }
      ]
    },
    {
      "cell_type": "code",
      "source": [
        "print(lda.components_.shape)\n",
        "lda.components_"
      ],
      "metadata": {
        "colab": {
          "base_uri": "https://localhost:8080/"
        },
        "id": "YXHQPk5v5PFj",
        "outputId": "b02cf8ad-0703-47d7-b615-3e2b55d63161"
      },
      "execution_count": 6,
      "outputs": [
        {
          "output_type": "stream",
          "name": "stdout",
          "text": [
            "(8, 1000)\n"
          ]
        },
        {
          "output_type": "execute_result",
          "data": {
            "text/plain": [
              "array([[9.45627863e+01, 1.46853807e+02, 2.98721517e+01, ...,\n",
              "        7.86486874e+01, 7.60873157e+01, 7.79896042e+01],\n",
              "       [3.33052730e-01, 1.27308271e+01, 1.25285072e-01, ...,\n",
              "        1.48724396e+02, 5.98873114e-01, 7.77354507e+01],\n",
              "       [2.83781469e+02, 1.29099909e-01, 1.41622969e+02, ...,\n",
              "        2.35596986e+00, 3.60286046e+01, 1.25029479e-01],\n",
              "       ...,\n",
              "       [4.28798729e+01, 1.55544147e+01, 6.14069108e+00, ...,\n",
              "        2.51274279e+01, 7.25789912e+00, 1.66078748e+01],\n",
              "       [1.43855322e-01, 7.48226972e+00, 1.25007092e-01, ...,\n",
              "        1.02853810e+02, 1.18647911e+00, 4.36052262e+01],\n",
              "       [3.93167153e+00, 1.05267733e+01, 2.61267627e+00, ...,\n",
              "        5.43834221e+01, 1.28730062e-01, 1.38102894e-01]])"
            ]
          },
          "metadata": {},
          "execution_count": 6
        }
      ]
    },
    {
      "cell_type": "code",
      "source": [
        "def diplay_topic_words(model , feature_names , no_to_words):\n",
        "  for topic_index , topic in enumerate(model.components_):\n",
        "    topic_word_indexs = topic.argsort()[::-1]\n",
        "    topic_indexs = topic_word_indexs[:no_to_words]\n",
        "    feature_concat = \" \".join(str(feature_names[i]) for i in topic_indexs)\n",
        "    print(feature_concat)\n",
        "feature_names = count_vect.get_feature_names_out()\n",
        "diplay_topic_words(lda , feature_names , 15)"
      ],
      "metadata": {
        "colab": {
          "base_uri": "https://localhost:8080/"
        },
        "id": "M0yf4LvP5Yps",
        "outputId": "f04bf30e-e507-4eeb-e416-f2a953c83600"
      },
      "execution_count": 12,
      "outputs": [
        {
          "output_type": "stream",
          "name": "stdout",
          "text": [
            "year 10 good game years medical time don health think use team better like 20\n",
            "know don just like said people ve didn think time right way going does say\n",
            "image file jpeg program output gif format images color files entry use 00 bit 03\n",
            "like think don know just people read book information group good question does time use\n",
            "israel armenian jews turkish armenians people jewish israeli government dos dos dos arab turkey war 000\n",
            "edu com available window graphics use ftp motif pub mail information server widget data software\n",
            "god people jesus church christ believe does say think christians christian did faith sin man\n",
            "use using windows display server problem bit like software need thanks run screen running line\n"
          ]
        }
      ]
    },
    {
      "cell_type": "code",
      "source": [
        "doc_topics = lda.transform(feat_vect)\n",
        "print(doc_topics.shape)\n",
        "print(doc_topics[:3])"
      ],
      "metadata": {
        "colab": {
          "base_uri": "https://localhost:8080/"
        },
        "id": "-kb2jx6P_DWx",
        "outputId": "ff1f9e70-c66e-4997-c96d-8a26e77f517f"
      },
      "execution_count": 24,
      "outputs": [
        {
          "output_type": "stream",
          "name": "stdout",
          "text": [
            "(7862, 8)\n",
            "[[0.01389818 0.64599642 0.01389153 0.27059258 0.01389681 0.01389886\n",
            "  0.01390745 0.01391816]\n",
            " [0.41762604 0.2098287  0.00212133 0.36193812 0.0021212  0.00212176\n",
            "  0.00212143 0.00212142]\n",
            " [0.24140052 0.00544411 0.00544456 0.00544267 0.00544001 0.00544357\n",
            "  0.00544211 0.72594245]]\n"
          ]
        }
      ]
    },
    {
      "cell_type": "code",
      "source": [
        "def get_filename_list(newsdata):\n",
        "  filename_list = []\n",
        "  for file in newsdata.filenames:\n",
        "    filename_temp = file.split(\"/\")[-2:]\n",
        "    filename = '.'.join(filename_temp)\n",
        "    filename_list.append(filename)\n",
        "  return filename_list\n",
        "filename_list = get_filename_list(news_Df)\n",
        "print(len(filename_list))\n",
        "print(filename_list[:10])"
      ],
      "metadata": {
        "colab": {
          "base_uri": "https://localhost:8080/"
        },
        "id": "5PNkc1ta_Jsx",
        "outputId": "d1806737-1fd0-4007-a41e-b76fb6077d85"
      },
      "execution_count": 28,
      "outputs": [
        {
          "output_type": "stream",
          "name": "stdout",
          "text": [
            "7862\n",
            "['soc.religion.christian.20630', 'sci.med.59422', 'comp.graphics.38765', 'comp.graphics.38810', 'sci.med.59449', 'comp.graphics.38461', 'comp.windows.x.66959', 'rec.motorcycles.104487', 'sci.electronics.53875', 'sci.electronics.53617']\n"
          ]
        }
      ]
    },
    {
      "cell_type": "code",
      "source": [
        "news_Df.filenames"
      ],
      "metadata": {
        "colab": {
          "base_uri": "https://localhost:8080/"
        },
        "id": "vE_RtDHoAEFP",
        "outputId": "26935556-720b-4979-b64f-e9ae8ae8d417"
      },
      "execution_count": 29,
      "outputs": [
        {
          "output_type": "execute_result",
          "data": {
            "text/plain": [
              "array(['/root/scikit_learn_data/20news_home/20news-bydate-train/soc.religion.christian/20630',\n",
              "       '/root/scikit_learn_data/20news_home/20news-bydate-test/sci.med/59422',\n",
              "       '/root/scikit_learn_data/20news_home/20news-bydate-test/comp.graphics/38765',\n",
              "       ...,\n",
              "       '/root/scikit_learn_data/20news_home/20news-bydate-train/rec.sport.baseball/102656',\n",
              "       '/root/scikit_learn_data/20news_home/20news-bydate-train/sci.electronics/53606',\n",
              "       '/root/scikit_learn_data/20news_home/20news-bydate-train/talk.politics.mideast/76505'],\n",
              "      dtype='<U86')"
            ]
          },
          "metadata": {},
          "execution_count": 29
        }
      ]
    },
    {
      "cell_type": "code",
      "source": [
        "import pandas as pd\n",
        "topic_names = ['Topic #' + str(i) for i in range(8)]\n",
        "topic_df = pd.DataFrame(data = doc_topics , columns=topic_names , index = filename_list)\n",
        "topic_df.head(10)"
      ],
      "metadata": {
        "colab": {
          "base_uri": "https://localhost:8080/",
          "height": 363
        },
        "id": "7dUv2v6pAZCI",
        "outputId": "23eb2bc5-a281-45a5-febd-f21459b4737a"
      },
      "execution_count": 30,
      "outputs": [
        {
          "output_type": "execute_result",
          "data": {
            "text/plain": [
              "                              Topic #0  Topic #1  Topic #2  Topic #3  \\\n",
              "soc.religion.christian.20630  0.013898  0.645996  0.013892  0.270593   \n",
              "sci.med.59422                 0.417626  0.209829  0.002121  0.361938   \n",
              "comp.graphics.38765           0.241401  0.005444  0.005445  0.005443   \n",
              "comp.graphics.38810           0.005439  0.005440  0.005445  0.579459   \n",
              "sci.med.59449                 0.006588  0.633151  0.006588  0.327325   \n",
              "comp.graphics.38461           0.008345  0.439862  0.215835  0.008354   \n",
              "comp.windows.x.66959          0.343010  0.041670  0.406857  0.041672   \n",
              "rec.motorcycles.104487        0.321794  0.649323  0.004814  0.004819   \n",
              "sci.electronics.53875         0.194135  0.752223  0.008933  0.008941   \n",
              "sci.electronics.53617         0.041751  0.041706  0.708055  0.041738   \n",
              "\n",
              "                              Topic #4  Topic #5  Topic #6  Topic #7  \n",
              "soc.religion.christian.20630  0.013897  0.013899  0.013907  0.013918  \n",
              "sci.med.59422                 0.002121  0.002122  0.002121  0.002121  \n",
              "comp.graphics.38765           0.005440  0.005444  0.005442  0.725942  \n",
              "comp.graphics.38810           0.005439  0.387895  0.005441  0.005441  \n",
              "sci.med.59449                 0.006586  0.006586  0.006590  0.006587  \n",
              "comp.graphics.38461           0.008339  0.008342  0.008348  0.302575  \n",
              "comp.windows.x.66959          0.041726  0.041708  0.041670  0.041689  \n",
              "rec.motorcycles.104487        0.004812  0.004811  0.004813  0.004814  \n",
              "sci.electronics.53875         0.008938  0.008952  0.008933  0.008945  \n",
              "sci.electronics.53617         0.041672  0.041674  0.041703  0.041702  "
            ],
            "text/html": [
              "\n",
              "  <div id=\"df-236da721-838a-4042-b8a2-17182ef257e1\" class=\"colab-df-container\">\n",
              "    <div>\n",
              "<style scoped>\n",
              "    .dataframe tbody tr th:only-of-type {\n",
              "        vertical-align: middle;\n",
              "    }\n",
              "\n",
              "    .dataframe tbody tr th {\n",
              "        vertical-align: top;\n",
              "    }\n",
              "\n",
              "    .dataframe thead th {\n",
              "        text-align: right;\n",
              "    }\n",
              "</style>\n",
              "<table border=\"1\" class=\"dataframe\">\n",
              "  <thead>\n",
              "    <tr style=\"text-align: right;\">\n",
              "      <th></th>\n",
              "      <th>Topic #0</th>\n",
              "      <th>Topic #1</th>\n",
              "      <th>Topic #2</th>\n",
              "      <th>Topic #3</th>\n",
              "      <th>Topic #4</th>\n",
              "      <th>Topic #5</th>\n",
              "      <th>Topic #6</th>\n",
              "      <th>Topic #7</th>\n",
              "    </tr>\n",
              "  </thead>\n",
              "  <tbody>\n",
              "    <tr>\n",
              "      <th>soc.religion.christian.20630</th>\n",
              "      <td>0.013898</td>\n",
              "      <td>0.645996</td>\n",
              "      <td>0.013892</td>\n",
              "      <td>0.270593</td>\n",
              "      <td>0.013897</td>\n",
              "      <td>0.013899</td>\n",
              "      <td>0.013907</td>\n",
              "      <td>0.013918</td>\n",
              "    </tr>\n",
              "    <tr>\n",
              "      <th>sci.med.59422</th>\n",
              "      <td>0.417626</td>\n",
              "      <td>0.209829</td>\n",
              "      <td>0.002121</td>\n",
              "      <td>0.361938</td>\n",
              "      <td>0.002121</td>\n",
              "      <td>0.002122</td>\n",
              "      <td>0.002121</td>\n",
              "      <td>0.002121</td>\n",
              "    </tr>\n",
              "    <tr>\n",
              "      <th>comp.graphics.38765</th>\n",
              "      <td>0.241401</td>\n",
              "      <td>0.005444</td>\n",
              "      <td>0.005445</td>\n",
              "      <td>0.005443</td>\n",
              "      <td>0.005440</td>\n",
              "      <td>0.005444</td>\n",
              "      <td>0.005442</td>\n",
              "      <td>0.725942</td>\n",
              "    </tr>\n",
              "    <tr>\n",
              "      <th>comp.graphics.38810</th>\n",
              "      <td>0.005439</td>\n",
              "      <td>0.005440</td>\n",
              "      <td>0.005445</td>\n",
              "      <td>0.579459</td>\n",
              "      <td>0.005439</td>\n",
              "      <td>0.387895</td>\n",
              "      <td>0.005441</td>\n",
              "      <td>0.005441</td>\n",
              "    </tr>\n",
              "    <tr>\n",
              "      <th>sci.med.59449</th>\n",
              "      <td>0.006588</td>\n",
              "      <td>0.633151</td>\n",
              "      <td>0.006588</td>\n",
              "      <td>0.327325</td>\n",
              "      <td>0.006586</td>\n",
              "      <td>0.006586</td>\n",
              "      <td>0.006590</td>\n",
              "      <td>0.006587</td>\n",
              "    </tr>\n",
              "    <tr>\n",
              "      <th>comp.graphics.38461</th>\n",
              "      <td>0.008345</td>\n",
              "      <td>0.439862</td>\n",
              "      <td>0.215835</td>\n",
              "      <td>0.008354</td>\n",
              "      <td>0.008339</td>\n",
              "      <td>0.008342</td>\n",
              "      <td>0.008348</td>\n",
              "      <td>0.302575</td>\n",
              "    </tr>\n",
              "    <tr>\n",
              "      <th>comp.windows.x.66959</th>\n",
              "      <td>0.343010</td>\n",
              "      <td>0.041670</td>\n",
              "      <td>0.406857</td>\n",
              "      <td>0.041672</td>\n",
              "      <td>0.041726</td>\n",
              "      <td>0.041708</td>\n",
              "      <td>0.041670</td>\n",
              "      <td>0.041689</td>\n",
              "    </tr>\n",
              "    <tr>\n",
              "      <th>rec.motorcycles.104487</th>\n",
              "      <td>0.321794</td>\n",
              "      <td>0.649323</td>\n",
              "      <td>0.004814</td>\n",
              "      <td>0.004819</td>\n",
              "      <td>0.004812</td>\n",
              "      <td>0.004811</td>\n",
              "      <td>0.004813</td>\n",
              "      <td>0.004814</td>\n",
              "    </tr>\n",
              "    <tr>\n",
              "      <th>sci.electronics.53875</th>\n",
              "      <td>0.194135</td>\n",
              "      <td>0.752223</td>\n",
              "      <td>0.008933</td>\n",
              "      <td>0.008941</td>\n",
              "      <td>0.008938</td>\n",
              "      <td>0.008952</td>\n",
              "      <td>0.008933</td>\n",
              "      <td>0.008945</td>\n",
              "    </tr>\n",
              "    <tr>\n",
              "      <th>sci.electronics.53617</th>\n",
              "      <td>0.041751</td>\n",
              "      <td>0.041706</td>\n",
              "      <td>0.708055</td>\n",
              "      <td>0.041738</td>\n",
              "      <td>0.041672</td>\n",
              "      <td>0.041674</td>\n",
              "      <td>0.041703</td>\n",
              "      <td>0.041702</td>\n",
              "    </tr>\n",
              "  </tbody>\n",
              "</table>\n",
              "</div>\n",
              "    <div class=\"colab-df-buttons\">\n",
              "\n",
              "  <div class=\"colab-df-container\">\n",
              "    <button class=\"colab-df-convert\" onclick=\"convertToInteractive('df-236da721-838a-4042-b8a2-17182ef257e1')\"\n",
              "            title=\"Convert this dataframe to an interactive table.\"\n",
              "            style=\"display:none;\">\n",
              "\n",
              "  <svg xmlns=\"http://www.w3.org/2000/svg\" height=\"24px\" viewBox=\"0 -960 960 960\">\n",
              "    <path d=\"M120-120v-720h720v720H120Zm60-500h600v-160H180v160Zm220 220h160v-160H400v160Zm0 220h160v-160H400v160ZM180-400h160v-160H180v160Zm440 0h160v-160H620v160ZM180-180h160v-160H180v160Zm440 0h160v-160H620v160Z\"/>\n",
              "  </svg>\n",
              "    </button>\n",
              "\n",
              "  <style>\n",
              "    .colab-df-container {\n",
              "      display:flex;\n",
              "      gap: 12px;\n",
              "    }\n",
              "\n",
              "    .colab-df-convert {\n",
              "      background-color: #E8F0FE;\n",
              "      border: none;\n",
              "      border-radius: 50%;\n",
              "      cursor: pointer;\n",
              "      display: none;\n",
              "      fill: #1967D2;\n",
              "      height: 32px;\n",
              "      padding: 0 0 0 0;\n",
              "      width: 32px;\n",
              "    }\n",
              "\n",
              "    .colab-df-convert:hover {\n",
              "      background-color: #E2EBFA;\n",
              "      box-shadow: 0px 1px 2px rgba(60, 64, 67, 0.3), 0px 1px 3px 1px rgba(60, 64, 67, 0.15);\n",
              "      fill: #174EA6;\n",
              "    }\n",
              "\n",
              "    .colab-df-buttons div {\n",
              "      margin-bottom: 4px;\n",
              "    }\n",
              "\n",
              "    [theme=dark] .colab-df-convert {\n",
              "      background-color: #3B4455;\n",
              "      fill: #D2E3FC;\n",
              "    }\n",
              "\n",
              "    [theme=dark] .colab-df-convert:hover {\n",
              "      background-color: #434B5C;\n",
              "      box-shadow: 0px 1px 3px 1px rgba(0, 0, 0, 0.15);\n",
              "      filter: drop-shadow(0px 1px 2px rgba(0, 0, 0, 0.3));\n",
              "      fill: #FFFFFF;\n",
              "    }\n",
              "  </style>\n",
              "\n",
              "    <script>\n",
              "      const buttonEl =\n",
              "        document.querySelector('#df-236da721-838a-4042-b8a2-17182ef257e1 button.colab-df-convert');\n",
              "      buttonEl.style.display =\n",
              "        google.colab.kernel.accessAllowed ? 'block' : 'none';\n",
              "\n",
              "      async function convertToInteractive(key) {\n",
              "        const element = document.querySelector('#df-236da721-838a-4042-b8a2-17182ef257e1');\n",
              "        const dataTable =\n",
              "          await google.colab.kernel.invokeFunction('convertToInteractive',\n",
              "                                                    [key], {});\n",
              "        if (!dataTable) return;\n",
              "\n",
              "        const docLinkHtml = 'Like what you see? Visit the ' +\n",
              "          '<a target=\"_blank\" href=https://colab.research.google.com/notebooks/data_table.ipynb>data table notebook</a>'\n",
              "          + ' to learn more about interactive tables.';\n",
              "        element.innerHTML = '';\n",
              "        dataTable['output_type'] = 'display_data';\n",
              "        await google.colab.output.renderOutput(dataTable, element);\n",
              "        const docLink = document.createElement('div');\n",
              "        docLink.innerHTML = docLinkHtml;\n",
              "        element.appendChild(docLink);\n",
              "      }\n",
              "    </script>\n",
              "  </div>\n",
              "\n",
              "\n",
              "<div id=\"df-4048383e-8a63-4d74-8718-f37802e9cf84\">\n",
              "  <button class=\"colab-df-quickchart\" onclick=\"quickchart('df-4048383e-8a63-4d74-8718-f37802e9cf84')\"\n",
              "            title=\"Suggest charts\"\n",
              "            style=\"display:none;\">\n",
              "\n",
              "<svg xmlns=\"http://www.w3.org/2000/svg\" height=\"24px\"viewBox=\"0 0 24 24\"\n",
              "     width=\"24px\">\n",
              "    <g>\n",
              "        <path d=\"M19 3H5c-1.1 0-2 .9-2 2v14c0 1.1.9 2 2 2h14c1.1 0 2-.9 2-2V5c0-1.1-.9-2-2-2zM9 17H7v-7h2v7zm4 0h-2V7h2v10zm4 0h-2v-4h2v4z\"/>\n",
              "    </g>\n",
              "</svg>\n",
              "  </button>\n",
              "\n",
              "<style>\n",
              "  .colab-df-quickchart {\n",
              "      --bg-color: #E8F0FE;\n",
              "      --fill-color: #1967D2;\n",
              "      --hover-bg-color: #E2EBFA;\n",
              "      --hover-fill-color: #174EA6;\n",
              "      --disabled-fill-color: #AAA;\n",
              "      --disabled-bg-color: #DDD;\n",
              "  }\n",
              "\n",
              "  [theme=dark] .colab-df-quickchart {\n",
              "      --bg-color: #3B4455;\n",
              "      --fill-color: #D2E3FC;\n",
              "      --hover-bg-color: #434B5C;\n",
              "      --hover-fill-color: #FFFFFF;\n",
              "      --disabled-bg-color: #3B4455;\n",
              "      --disabled-fill-color: #666;\n",
              "  }\n",
              "\n",
              "  .colab-df-quickchart {\n",
              "    background-color: var(--bg-color);\n",
              "    border: none;\n",
              "    border-radius: 50%;\n",
              "    cursor: pointer;\n",
              "    display: none;\n",
              "    fill: var(--fill-color);\n",
              "    height: 32px;\n",
              "    padding: 0;\n",
              "    width: 32px;\n",
              "  }\n",
              "\n",
              "  .colab-df-quickchart:hover {\n",
              "    background-color: var(--hover-bg-color);\n",
              "    box-shadow: 0 1px 2px rgba(60, 64, 67, 0.3), 0 1px 3px 1px rgba(60, 64, 67, 0.15);\n",
              "    fill: var(--button-hover-fill-color);\n",
              "  }\n",
              "\n",
              "  .colab-df-quickchart-complete:disabled,\n",
              "  .colab-df-quickchart-complete:disabled:hover {\n",
              "    background-color: var(--disabled-bg-color);\n",
              "    fill: var(--disabled-fill-color);\n",
              "    box-shadow: none;\n",
              "  }\n",
              "\n",
              "  .colab-df-spinner {\n",
              "    border: 2px solid var(--fill-color);\n",
              "    border-color: transparent;\n",
              "    border-bottom-color: var(--fill-color);\n",
              "    animation:\n",
              "      spin 1s steps(1) infinite;\n",
              "  }\n",
              "\n",
              "  @keyframes spin {\n",
              "    0% {\n",
              "      border-color: transparent;\n",
              "      border-bottom-color: var(--fill-color);\n",
              "      border-left-color: var(--fill-color);\n",
              "    }\n",
              "    20% {\n",
              "      border-color: transparent;\n",
              "      border-left-color: var(--fill-color);\n",
              "      border-top-color: var(--fill-color);\n",
              "    }\n",
              "    30% {\n",
              "      border-color: transparent;\n",
              "      border-left-color: var(--fill-color);\n",
              "      border-top-color: var(--fill-color);\n",
              "      border-right-color: var(--fill-color);\n",
              "    }\n",
              "    40% {\n",
              "      border-color: transparent;\n",
              "      border-right-color: var(--fill-color);\n",
              "      border-top-color: var(--fill-color);\n",
              "    }\n",
              "    60% {\n",
              "      border-color: transparent;\n",
              "      border-right-color: var(--fill-color);\n",
              "    }\n",
              "    80% {\n",
              "      border-color: transparent;\n",
              "      border-right-color: var(--fill-color);\n",
              "      border-bottom-color: var(--fill-color);\n",
              "    }\n",
              "    90% {\n",
              "      border-color: transparent;\n",
              "      border-bottom-color: var(--fill-color);\n",
              "    }\n",
              "  }\n",
              "</style>\n",
              "\n",
              "  <script>\n",
              "    async function quickchart(key) {\n",
              "      const quickchartButtonEl =\n",
              "        document.querySelector('#' + key + ' button');\n",
              "      quickchartButtonEl.disabled = true;  // To prevent multiple clicks.\n",
              "      quickchartButtonEl.classList.add('colab-df-spinner');\n",
              "      try {\n",
              "        const charts = await google.colab.kernel.invokeFunction(\n",
              "            'suggestCharts', [key], {});\n",
              "      } catch (error) {\n",
              "        console.error('Error during call to suggestCharts:', error);\n",
              "      }\n",
              "      quickchartButtonEl.classList.remove('colab-df-spinner');\n",
              "      quickchartButtonEl.classList.add('colab-df-quickchart-complete');\n",
              "    }\n",
              "    (() => {\n",
              "      let quickchartButtonEl =\n",
              "        document.querySelector('#df-4048383e-8a63-4d74-8718-f37802e9cf84 button');\n",
              "      quickchartButtonEl.style.display =\n",
              "        google.colab.kernel.accessAllowed ? 'block' : 'none';\n",
              "    })();\n",
              "  </script>\n",
              "</div>\n",
              "\n",
              "    </div>\n",
              "  </div>\n"
            ],
            "application/vnd.google.colaboratory.intrinsic+json": {
              "type": "dataframe",
              "variable_name": "topic_df",
              "summary": "{\n  \"name\": \"topic_df\",\n  \"rows\": 7862,\n  \"fields\": [\n    {\n      \"column\": \"Topic #0\",\n      \"properties\": {\n        \"dtype\": \"number\",\n        \"std\": 0.2531642479526608,\n        \"min\": 3.843349927999672e-05,\n        \"max\": 0.9954607581363119,\n        \"num_unique_values\": 7521,\n        \"samples\": [\n          0.04170000370524019,\n          0.004315443063278934,\n          0.0034791497127331533\n        ],\n        \"semantic_type\": \"\",\n        \"description\": \"\"\n      }\n    },\n    {\n      \"column\": \"Topic #1\",\n      \"properties\": {\n        \"dtype\": \"number\",\n        \"std\": 0.2842658863538636,\n        \"min\": 3.841375823377863e-05,\n        \"max\": 0.9945355256960345,\n        \"num_unique_values\": 7521,\n        \"samples\": [\n          0.7080271362541009,\n          0.14060350837850763,\n          0.003477977963150025\n        ],\n        \"semantic_type\": \"\",\n        \"description\": \"\"\n      }\n    },\n    {\n      \"column\": \"Topic #2\",\n      \"properties\": {\n        \"dtype\": \"number\",\n        \"std\": 0.12600018040098696,\n        \"min\": 5.081854735139146e-05,\n        \"max\": 0.9997182002146606,\n        \"num_unique_values\": 7521,\n        \"samples\": [\n          0.04168738899451429,\n          0.004314244626491603,\n          0.0034767065628830145\n        ],\n        \"semantic_type\": \"\",\n        \"description\": \"\"\n      }\n    },\n    {\n      \"column\": \"Topic #3\",\n      \"properties\": {\n        \"dtype\": \"number\",\n        \"std\": 0.24073354506657463,\n        \"min\": 3.841904119555967e-05,\n        \"max\": 0.9926966586990348,\n        \"num_unique_values\": 7521,\n        \"samples\": [\n          0.04170979839917559,\n          0.004318296776725937,\n          0.2773095416420673\n        ],\n        \"semantic_type\": \"\",\n        \"description\": \"\"\n      }\n    },\n    {\n      \"column\": \"Topic #4\",\n      \"properties\": {\n        \"dtype\": \"number\",\n        \"std\": 0.17832372043626687,\n        \"min\": 4.0228449719199714e-05,\n        \"max\": 0.9979862188357095,\n        \"num_unique_values\": 7521,\n        \"samples\": [\n          0.04169553446886263,\n          0.0043191314035484546,\n          0.0034739523137577097\n        ],\n        \"semantic_type\": \"\",\n        \"description\": \"\"\n      }\n    },\n    {\n      \"column\": \"Topic #5\",\n      \"properties\": {\n        \"dtype\": \"number\",\n        \"std\": 0.20401246743804666,\n        \"min\": 4.0271651237056375e-05,\n        \"max\": 0.9996445900932289,\n        \"num_unique_values\": 7521,\n        \"samples\": [\n          0.041693621276994684,\n          0.5831155075142638,\n          0.003478511677417498\n        ],\n        \"semantic_type\": \"\",\n        \"description\": \"\"\n      }\n    },\n    {\n      \"column\": \"Topic #6\",\n      \"properties\": {\n        \"dtype\": \"number\",\n        \"std\": 0.2511326230396428,\n        \"min\": 3.841239622585192e-05,\n        \"max\": 0.9981804986075928,\n        \"num_unique_values\": 7521,\n        \"samples\": [\n          0.04171645874985855,\n          0.004316669836120584,\n          0.0034757535167581526\n        ],\n        \"semantic_type\": \"\",\n        \"description\": \"\"\n      }\n    },\n    {\n      \"column\": \"Topic #7\",\n      \"properties\": {\n        \"dtype\": \"number\",\n        \"std\": 0.2585197854773552,\n        \"min\": 4.026723476537618e-05,\n        \"max\": 0.9917304985599891,\n        \"num_unique_values\": 7521,\n        \"samples\": [\n          0.04177005815125321,\n          0.25469719840106303,\n          0.7018284066112332\n        ],\n        \"semantic_type\": \"\",\n        \"description\": \"\"\n      }\n    }\n  ]\n}"
            }
          },
          "metadata": {},
          "execution_count": 30
        }
      ]
    },
    {
      "cell_type": "code",
      "source": [],
      "metadata": {
        "id": "Um4F80JjA9oa"
      },
      "execution_count": null,
      "outputs": []
    }
  ]
}